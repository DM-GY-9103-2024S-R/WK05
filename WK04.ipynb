{
  "nbformat": 4,
  "nbformat_minor": 0,
  "metadata": {
    "colab": {
      "provenance": [],
      "authorship_tag": "ABX9TyMMTq/GFf80B6nodqGleuLH"
    },
    "kernelspec": {
      "name": "python3",
      "display_name": "Python 3"
    },
    "language_info": {
      "name": "python"
    }
  },
  "cells": [
    {
      "cell_type": "markdown",
      "source": [
        "# Week 04 exercises"
      ],
      "metadata": {
        "id": "Ty-DVrJlaN1T"
      }
    },
    {
      "cell_type": "markdown",
      "source": [
        "## Setup\n",
        "\n",
        "Include some helper functions and libraries"
      ],
      "metadata": {
        "id": "s-e8uvrIca09"
      }
    },
    {
      "cell_type": "code",
      "source": [
        "!wget -q https://github.com/DM-GY-9103-2024S-R/9103-utils/raw/main/src/io_utils.py"
      ],
      "metadata": {
        "id": "uHIQDMJ-WTei"
      },
      "execution_count": null,
      "outputs": []
    },
    {
      "cell_type": "code",
      "source": [
        "import matplotlib.pyplot as plt\n",
        "import random\n",
        "\n",
        "from io_utils import object_from_json_url"
      ],
      "metadata": {
        "id": "1gUdnPl3FkEh"
      },
      "execution_count": null,
      "outputs": []
    },
    {
      "cell_type": "markdown",
      "source": [
        "## Lists"
      ],
      "metadata": {
        "id": "sX5wEtIkWKhD"
      }
    },
    {
      "cell_type": "markdown",
      "source": [
        "### Create a list of 10 random numbers between 0 and 2000"
      ],
      "metadata": {
        "id": "hBs429yN9wYE"
      }
    },
    {
      "cell_type": "code",
      "source": [
        "list_of_randoms = []\n",
        "\n",
        "for i in range(0, 10):\n",
        "  n = random.randint(0, 2000)\n",
        "  list_of_randoms.append(n)\n",
        "\n",
        "print(list_of_randoms)\n",
        "print(len(list_of_randoms))"
      ],
      "metadata": {
        "id": "36_m35zIyN2h"
      },
      "execution_count": null,
      "outputs": []
    },
    {
      "cell_type": "markdown",
      "source": [
        "### Print the numbers and their index"
      ],
      "metadata": {
        "id": "7Aw4WiDS92MU"
      }
    },
    {
      "cell_type": "code",
      "source": [
        "for i in range(0, 10):\n",
        "  print(\"element\", i, \"is\", list_of_randoms[i])"
      ],
      "metadata": {
        "id": "h3ochjQlzQ4e"
      },
      "execution_count": null,
      "outputs": []
    },
    {
      "cell_type": "markdown",
      "source": [
        "### Python has a very useful function for sorting lists."
      ],
      "metadata": {
        "id": "8sYq0tQj6z0e"
      }
    },
    {
      "cell_type": "code",
      "source": [
        "my_sorted_list = sorted(list_of_randoms)\n",
        "\n",
        "print(my_sorted_list)\n",
        "print(len(my_sorted_list))"
      ],
      "metadata": {
        "id": "DJlfGTZZ6SJt"
      },
      "execution_count": null,
      "outputs": []
    },
    {
      "cell_type": "markdown",
      "source": [
        "### With a sorted list we can print the 5 smallest and 5 largest elements"
      ],
      "metadata": {
        "id": "zIJjJ8rx_W8s"
      }
    },
    {
      "cell_type": "code",
      "source": [
        "print(my_sorted_list[:5])\n",
        "print(my_sorted_list[-5:])"
      ],
      "metadata": {
        "id": "ytoCAy4p_dCZ"
      },
      "execution_count": null,
      "outputs": []
    },
    {
      "cell_type": "markdown",
      "source": [
        "## Objects/Dictionaries"
      ],
      "metadata": {
        "id": "tEQUt3lwY2xE"
      }
    },
    {
      "cell_type": "markdown",
      "source": [
        "### Creating objects"
      ],
      "metadata": {
        "id": "QSodBdxw0byR"
      }
    },
    {
      "cell_type": "code",
      "source": [
        "my_info = {\n",
        "  \"name\": \"thiago\",\n",
        "  \"id\": 8114,\n",
        "  \"zip\": 11001,\n",
        "  \"grades\": [90, 80, 60],\n",
        "  \"attendance\": [True, True, False, True, True],\n",
        "  \"final grade\": \"A\"\n",
        "}"
      ],
      "metadata": {
        "id": "Hukt4YNv0avQ"
      },
      "execution_count": null,
      "outputs": []
    },
    {
      "cell_type": "code",
      "source": [
        "my_info"
      ],
      "metadata": {
        "id": "-LBHNWgd9t3k"
      },
      "execution_count": null,
      "outputs": []
    },
    {
      "cell_type": "markdown",
      "source": [
        "### Iterating over key/values"
      ],
      "metadata": {
        "id": "k2sCp_La1PiP"
      }
    },
    {
      "cell_type": "code",
      "source": [
        "for key, val in my_info.items():\n",
        "  print(\"key\", key, \"has value\", val)"
      ],
      "metadata": {
        "id": "Mkw7MQWg1SYW"
      },
      "execution_count": null,
      "outputs": []
    },
    {
      "cell_type": "markdown",
      "source": [
        "### Accessing values at specific keys"
      ],
      "metadata": {
        "id": "RJog1ZUU1kqO"
      }
    },
    {
      "cell_type": "code",
      "source": [
        "my_grades = my_info[\"grades\"]\n",
        "print(my_grades)"
      ],
      "metadata": {
        "id": "xvoyXmaJ1jtp"
      },
      "execution_count": null,
      "outputs": []
    },
    {
      "cell_type": "code",
      "source": [
        "# Sum grades\n",
        "\n",
        "sum_grades = sum(my_grades)\n",
        "print(sum_grades)"
      ],
      "metadata": {
        "id": "oJFC6YXM1zXp"
      },
      "execution_count": null,
      "outputs": []
    },
    {
      "cell_type": "code",
      "source": [
        "# Average attendance\n",
        "\n",
        "my_attendance = my_info[\"attendance\"]\n",
        "print(my_attendance)\n",
        "\n",
        "my_attendance_average = sum(my_attendance) / len(my_attendance)\n",
        "print(my_attendance_average)"
      ],
      "metadata": {
        "id": "_RdS3XvI11jv"
      },
      "execution_count": null,
      "outputs": []
    },
    {
      "cell_type": "markdown",
      "source": [
        "### List of objects\n",
        "\n",
        "Creating a list of 10 objects with random heights and brooklyn zip codes."
      ],
      "metadata": {
        "id": "YIV3UD4N7rvd"
      }
    },
    {
      "cell_type": "code",
      "source": [
        "my_data = []\n",
        "\n",
        "for c in range(0, 10):\n",
        "  my_object = {\n",
        "    \"height\": random.randint(60, 70),\n",
        "    \"zip\": random.randint(11200, 11240)\n",
        "  }\n",
        "\n",
        "  my_data.append(my_object)"
      ],
      "metadata": {
        "id": "JZ0HeNOh7xRY"
      },
      "execution_count": null,
      "outputs": []
    },
    {
      "cell_type": "code",
      "source": [
        "for d in my_data:\n",
        "  print(d)"
      ],
      "metadata": {
        "id": "r9uxkXFJ-31z"
      },
      "execution_count": null,
      "outputs": []
    },
    {
      "cell_type": "markdown",
      "source": [
        "### Get list of all heights"
      ],
      "metadata": {
        "id": "6MN8kSsb-Wuf"
      }
    },
    {
      "cell_type": "code",
      "source": [
        "heights = []\n",
        "\n",
        "for d in my_data:\n",
        "  # TODO\n",
        "  pass"
      ],
      "metadata": {
        "id": "lwYlxres-da4"
      },
      "execution_count": null,
      "outputs": []
    },
    {
      "cell_type": "markdown",
      "source": [
        "### Sort by key values\n",
        "\n",
        "For example, sort objects by zip code.\n",
        "\n",
        "We could first get all the zip codes and then sort the new list:"
      ],
      "metadata": {
        "id": "JZGXUIl5_Ul5"
      }
    },
    {
      "cell_type": "code",
      "source": [
        "zips = []\n",
        "\n",
        "for d in my_data:\n",
        "  zips.append(d[\"zip\"])\n",
        "\n",
        "print(\"original:\")\n",
        "print(zips)\n",
        "\n",
        "by_zip = sorted(zips)\n",
        "\n",
        "print(\"sorted:\")\n",
        "print(by_zip)"
      ],
      "metadata": {
        "id": "xUUNiR8hBxN5"
      },
      "execution_count": null,
      "outputs": []
    },
    {
      "cell_type": "markdown",
      "source": [
        "### But now we don't have the associated heights with each zip code.\n",
        "\n",
        "We want to sort the list while keeping the objects together"
      ],
      "metadata": {
        "id": "HVOTC9lmBxtm"
      }
    },
    {
      "cell_type": "code",
      "source": [
        "by_zip = sorted(my_data)\n",
        "\n",
        "print(by_zip)"
      ],
      "metadata": {
        "id": "cRGTCxnx_ag2"
      },
      "execution_count": null,
      "outputs": []
    },
    {
      "cell_type": "markdown",
      "source": [
        "### For lists of objects we have to tell python which values to compare to determine their order\n",
        "\n",
        "We do this by defining a key function"
      ],
      "metadata": {
        "id": "v8k00TxzBXBz"
      }
    },
    {
      "cell_type": "code",
      "source": [
        "def zipKey(A):\n",
        "  return A[\"zip\"]\n",
        "\n",
        "by_zip = sorted(my_data, key=zipKey)\n",
        "\n",
        "print(by_zip)"
      ],
      "metadata": {
        "id": "9h0l5lOK_mdd"
      },
      "execution_count": null,
      "outputs": []
    },
    {
      "cell_type": "code",
      "source": [
        "# TODO: sort by height"
      ],
      "metadata": {
        "id": "VEyQWqasBnRK"
      },
      "execution_count": null,
      "outputs": []
    },
    {
      "cell_type": "markdown",
      "source": [
        "### Min/Max functions also work with key argument"
      ],
      "metadata": {
        "id": "WSRlUNN3CNTA"
      }
    },
    {
      "cell_type": "code",
      "source": [
        "max_by_zip = max(my_data, key=zipKey)\n",
        "\n",
        "print(max_by_zip)\n",
        "\n",
        "min_by_height = min(my_data, key=heightKey)\n",
        "\n",
        "print(min_by_height)"
      ],
      "metadata": {
        "id": "9xq_M_l4CbcH"
      },
      "execution_count": null,
      "outputs": []
    },
    {
      "cell_type": "markdown",
      "source": [
        "## Bigger Lists"
      ],
      "metadata": {
        "id": "1TXg7A_icYXE"
      }
    },
    {
      "cell_type": "code",
      "source": [
        "HEIGHT_FILE = \"https://dm-gy-9103-2024s-r.github.io/assets/datasets/list_height.json\"\n",
        "\n",
        "# Use the object_from_json_url() function to get the contents\n",
        "# from the json file into a Python object called \"heights\"\n",
        "\n",
        "heights = object_from_json_url(HEIGHT_FILE)\n",
        "\n",
        "# look at some of the data\n",
        "\n",
        "# TODO:\n",
        "#   - how many items ?\n",
        "#   - what's the biggest height ?\n",
        "#   - what's the smallest height ?\n",
        "#   - what's the average height ?"
      ],
      "metadata": {
        "id": "M2MhJi4pcoKv"
      },
      "execution_count": null,
      "outputs": []
    },
    {
      "cell_type": "code",
      "source": [
        "# Other files\n",
        "\n",
        "WEIGHT_FILE = \"https://dm-gy-9103-2024s-r.github.io/assets/datasets/list_weight.json\"\n",
        "ANSUR_FILE = \"https://dm-gy-9103-2024s-r.github.io/assets/datasets/list_age_height_weight.json\"\n",
        "\n",
        "weights = object_from_json_url(WEIGHT_FILE)\n",
        "ansur = object_from_json_url(ANSUR_FILE)\n",
        "\n",
        "# look at some of the data\n",
        "\n",
        "# TODO:\n",
        "#   - how many items ?\n",
        "#   - what's the biggest age ?\n",
        "#   - what's the smallest age ?\n",
        "#   - what's the average age ?"
      ],
      "metadata": {
        "id": "dyvLoSIGnecd"
      },
      "execution_count": null,
      "outputs": []
    },
    {
      "cell_type": "code",
      "source": [
        "# json version\n",
        "\n",
        "ANSUR_OBJ_FILE = \"https://dm-gy-9103-2024s-r.github.io/assets/datasets/ansur_age_height_weight.json\"\n",
        "\n",
        "ansur = object_from_json_url(ANSUR_OBJ_FILE)\n",
        "\n",
        "# look at some of the data\n",
        "\n",
        "# TODO:\n",
        "#   - how many items ?\n",
        "#   - what's biggest age ?\n",
        "#   - what's smallest ?"
      ],
      "metadata": {
        "id": "eP07D04AW4ab"
      },
      "execution_count": null,
      "outputs": []
    },
    {
      "cell_type": "code",
      "source": [
        "# more complete json version\n",
        "\n",
        "ANSUR_OBJ_FILE = \"https://dm-gy-9103-2024s-r.github.io/assets/datasets/ansur_wk02.json\"\n",
        "\n",
        "ansur = object_from_json_url(ANSUR_OBJ_FILE)\n",
        "\n",
        "# look at some of the data\n",
        "\n",
        "# TODO:\n",
        "#   - how many items or datapoints ?\n",
        "#   - how many \"columns\" or features ?\n",
        "#   - what could be an interesting feature ?"
      ],
      "metadata": {
        "id": "ts0Y8VopXcK0"
      },
      "execution_count": null,
      "outputs": []
    },
    {
      "cell_type": "markdown",
      "source": [
        "## Plots\n",
        "\n",
        "We can use the [matplot](https://matplotlib.org/stable/api/pyplot_summary.html) library to visualize our data."
      ],
      "metadata": {
        "id": "57fBpk_6dsvw"
      }
    },
    {
      "cell_type": "code",
      "source": [
        "plt.plot(heights, 'bo', markersize=2)\n",
        "plt.show()"
      ],
      "metadata": {
        "id": "L2P8OQxHd2E0"
      },
      "execution_count": null,
      "outputs": []
    },
    {
      "cell_type": "code",
      "source": [
        "# plot weights"
      ],
      "metadata": {
        "id": "HerDD9h0kCWN"
      },
      "execution_count": null,
      "outputs": []
    },
    {
      "cell_type": "code",
      "source": [
        "# plot sorted heights"
      ],
      "metadata": {
        "id": "QhuUqx0Cn61r"
      },
      "execution_count": null,
      "outputs": []
    },
    {
      "cell_type": "markdown",
      "source": [
        "## Histograms"
      ],
      "metadata": {
        "id": "DWExTIuKgWkw"
      }
    },
    {
      "cell_type": "code",
      "source": [
        "plt.hist(heights, bins=32)\n",
        "plt.show()"
      ],
      "metadata": {
        "id": "2Lm0SVgXd9oh"
      },
      "execution_count": null,
      "outputs": []
    },
    {
      "cell_type": "markdown",
      "source": [
        "## Correlation"
      ],
      "metadata": {
        "id": "G4lJZM-HxNc3"
      }
    },
    {
      "cell_type": "code",
      "source": [
        "# TODO: get 2 \"columns\" and plot scatter plot"
      ],
      "metadata": {
        "id": "qCp1wD28xTS3"
      },
      "execution_count": null,
      "outputs": []
    }
  ]
}