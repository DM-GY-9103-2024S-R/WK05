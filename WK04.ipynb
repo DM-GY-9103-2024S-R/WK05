{
  "cells": [
    {
      "cell_type": "markdown",
      "metadata": {
        "id": "Ty-DVrJlaN1T"
      },
      "source": [
        "# Week 04 exercises"
      ]
    },
    {
      "cell_type": "markdown",
      "metadata": {
        "id": "s-e8uvrIca09"
      },
      "source": [
        "## Setup\n",
        "\n",
        "Include some helper functions and libraries"
      ]
    },
    {
      "cell_type": "code",
      "execution_count": null,
      "metadata": {
        "id": "uHIQDMJ-WTei"
      },
      "outputs": [],
      "source": [
        "!wget -q https://github.com/DM-GY-9103-2024S-R/9103-utils/raw/main/src/io_utils.py"
      ]
    },
    {
      "cell_type": "code",
      "execution_count": null,
      "metadata": {
        "id": "1gUdnPl3FkEh"
      },
      "outputs": [],
      "source": [
        "import matplotlib.pyplot as plt\n",
        "import random\n",
        "\n",
        "from io_utils import object_from_json_url"
      ]
    },
    {
      "cell_type": "markdown",
      "metadata": {
        "id": "sX5wEtIkWKhD"
      },
      "source": [
        "## Lists"
      ]
    },
    {
      "cell_type": "markdown",
      "metadata": {
        "id": "hBs429yN9wYE"
      },
      "source": [
        "### Create a list of 10 random numbers between 0 and 2000"
      ]
    },
    {
      "cell_type": "code",
      "execution_count": null,
      "metadata": {
        "id": "36_m35zIyN2h"
      },
      "outputs": [],
      "source": [
        "list_of_randoms = []\n",
        "\n",
        "for i in range(0, 10):\n",
        "  n = random.randint(0, 2000)\n",
        "  list_of_randoms.append(n)\n",
        "\n",
        "print(list_of_randoms)\n",
        "print(len(list_of_randoms))"
      ]
    },
    {
      "cell_type": "markdown",
      "metadata": {
        "id": "7Aw4WiDS92MU"
      },
      "source": [
        "### Print the numbers and their index"
      ]
    },
    {
      "cell_type": "code",
      "execution_count": null,
      "metadata": {
        "id": "h3ochjQlzQ4e"
      },
      "outputs": [],
      "source": [
        "for i in range(0, 10):\n",
        "  print(\"element\", i, \"is\", list_of_randoms[i])"
      ]
    },
    {
      "cell_type": "markdown",
      "metadata": {
        "id": "8sYq0tQj6z0e"
      },
      "source": [
        "### Python has a very useful function for sorting lists."
      ]
    },
    {
      "cell_type": "code",
      "execution_count": null,
      "metadata": {
        "id": "DJlfGTZZ6SJt"
      },
      "outputs": [],
      "source": [
        "my_sorted_list = sorted(list_of_randoms)\n",
        "\n",
        "print(my_sorted_list)\n",
        "print(len(my_sorted_list))"
      ]
    },
    {
      "cell_type": "markdown",
      "metadata": {
        "id": "zIJjJ8rx_W8s"
      },
      "source": [
        "### With a sorted list we can print the 5 smallest and 5 largest elements"
      ]
    },
    {
      "cell_type": "code",
      "execution_count": null,
      "metadata": {
        "id": "ytoCAy4p_dCZ"
      },
      "outputs": [],
      "source": [
        "print(my_sorted_list[:5])\n",
        "print(my_sorted_list[-5:])"
      ]
    },
    {
      "cell_type": "markdown",
      "metadata": {
        "id": "tEQUt3lwY2xE"
      },
      "source": [
        "## Objects/Dictionaries"
      ]
    },
    {
      "cell_type": "markdown",
      "metadata": {
        "id": "QSodBdxw0byR"
      },
      "source": [
        "### Creating objects"
      ]
    },
    {
      "cell_type": "code",
      "execution_count": null,
      "metadata": {
        "id": "Hukt4YNv0avQ"
      },
      "outputs": [],
      "source": [
        "my_info = {\n",
        "  \"name\": \"thiago\",\n",
        "  \"id\": 8114,\n",
        "  \"zip\": 11001,\n",
        "  \"grades\": [90, 80, 60],\n",
        "  \"attendance\": [True, True, False, True, True],\n",
        "  \"final grade\": \"A\"\n",
        "}"
      ]
    },
    {
      "cell_type": "code",
      "execution_count": null,
      "metadata": {
        "id": "-LBHNWgd9t3k"
      },
      "outputs": [],
      "source": [
        "my_info"
      ]
    },
    {
      "cell_type": "markdown",
      "metadata": {
        "id": "k2sCp_La1PiP"
      },
      "source": [
        "### Iterating over key/values"
      ]
    },
    {
      "cell_type": "code",
      "execution_count": null,
      "metadata": {
        "id": "Mkw7MQWg1SYW"
      },
      "outputs": [],
      "source": [
        "for key, val in my_info.items():\n",
        "  print(\"key\", key, \"has value\", val)"
      ]
    },
    {
      "cell_type": "markdown",
      "metadata": {
        "id": "RJog1ZUU1kqO"
      },
      "source": [
        "### Accessing values at specific keys"
      ]
    },
    {
      "cell_type": "code",
      "execution_count": null,
      "metadata": {
        "id": "xvoyXmaJ1jtp"
      },
      "outputs": [],
      "source": [
        "my_grades = my_info[\"grades\"]\n",
        "print(my_grades)"
      ]
    },
    {
      "cell_type": "code",
      "execution_count": null,
      "metadata": {
        "id": "oJFC6YXM1zXp"
      },
      "outputs": [],
      "source": [
        "# Sum grades\n",
        "\n",
        "sum_grades = sum(my_grades)\n",
        "print(sum_grades)"
      ]
    },
    {
      "cell_type": "code",
      "execution_count": null,
      "metadata": {
        "id": "_RdS3XvI11jv"
      },
      "outputs": [],
      "source": [
        "# Average attendance\n",
        "\n",
        "my_attendance = my_info[\"attendance\"]\n",
        "print(my_attendance)\n",
        "\n",
        "my_attendance_average = sum(my_attendance) / len(my_attendance)\n",
        "print(my_attendance_average)"
      ]
    },
    {
      "cell_type": "markdown",
      "metadata": {
        "id": "YIV3UD4N7rvd"
      },
      "source": [
        "### List of objects\n",
        "\n",
        "Creating a list of 10 objects with random heights and brooklyn zip codes."
      ]
    },
    {
      "cell_type": "code",
      "execution_count": null,
      "metadata": {
        "id": "JZ0HeNOh7xRY"
      },
      "outputs": [],
      "source": [
        "my_data = []\n",
        "\n",
        "for c in range(0, 10):\n",
        "  my_object = {\n",
        "    \"height\": random.randint(60, 70),\n",
        "    \"zip\": random.randint(11200, 11240)\n",
        "  }\n",
        "\n",
        "  my_data.append(my_object)"
      ]
    },
    {
      "cell_type": "code",
      "execution_count": null,
      "metadata": {
        "id": "r9uxkXFJ-31z"
      },
      "outputs": [],
      "source": [
        "for d in my_data:\n",
        "  print(d)"
      ]
    },
    {
      "cell_type": "markdown",
      "metadata": {
        "id": "6MN8kSsb-Wuf"
      },
      "source": [
        "### Get list of all heights"
      ]
    },
    {
      "cell_type": "code",
      "execution_count": null,
      "metadata": {
        "id": "lwYlxres-da4"
      },
      "outputs": [],
      "source": [
        "heights = []\n",
        "\n",
        "for d in my_data:\n",
        "  # TODO\n",
        "  pass"
      ]
    },
    {
      "cell_type": "markdown",
      "metadata": {
        "id": "JZGXUIl5_Ul5"
      },
      "source": [
        "### Sort by key values\n",
        "\n",
        "For example, sort objects by zip code.\n",
        "\n",
        "We could first get all the zip codes and then sort the new list:"
      ]
    },
    {
      "cell_type": "code",
      "execution_count": null,
      "metadata": {
        "id": "xUUNiR8hBxN5"
      },
      "outputs": [],
      "source": [
        "zips = []\n",
        "\n",
        "for d in my_data:\n",
        "  zips.append(d[\"zip\"])\n",
        "\n",
        "print(\"original:\")\n",
        "print(zips)\n",
        "\n",
        "by_zip = sorted(zips)\n",
        "\n",
        "print(\"sorted:\")\n",
        "print(by_zip)"
      ]
    },
    {
      "cell_type": "markdown",
      "metadata": {
        "id": "HVOTC9lmBxtm"
      },
      "source": [
        "### But now we don't have the associated heights with each zip code.\n",
        "\n",
        "We want to sort the list while keeping the objects together"
      ]
    },
    {
      "cell_type": "code",
      "execution_count": null,
      "metadata": {
        "id": "cRGTCxnx_ag2"
      },
      "outputs": [],
      "source": [
        "by_zip = sorted(my_data)\n",
        "print(by_zip)"
      ]
    },
    {
      "cell_type": "markdown",
      "metadata": {
        "id": "v8k00TxzBXBz"
      },
      "source": [
        "### For lists of objects we have to tell python which values to compare to determine their order\n",
        "\n",
        "We do this by defining a key function"
      ]
    },
    {
      "cell_type": "code",
      "execution_count": null,
      "metadata": {
        "id": "9h0l5lOK_mdd"
      },
      "outputs": [],
      "source": [
        "def zipKey(A):\n",
        "  return A[\"zip\"]\n",
        "\n",
        "by_zip = sorted(my_data, key=zipKey)\n",
        "\n",
        "print(by_zip)"
      ]
    },
    {
      "cell_type": "code",
      "execution_count": null,
      "metadata": {
        "id": "VEyQWqasBnRK"
      },
      "outputs": [],
      "source": [
        "# TODO: sort by height\n",
        "\n",
        "by_height = []\n",
        "\n",
        "print(by_height)"
      ]
    },
    {
      "cell_type": "markdown",
      "metadata": {
        "id": "WSRlUNN3CNTA"
      },
      "source": [
        "### Min/Max functions also work with key argument"
      ]
    },
    {
      "cell_type": "code",
      "execution_count": null,
      "metadata": {
        "id": "9xq_M_l4CbcH"
      },
      "outputs": [],
      "source": [
        "max_by_zip = max(my_data, key=zipKey)\n",
        "\n",
        "print(max_by_zip)\n",
        "\n",
        "min_by_height = min(my_data, key=heightKey)\n",
        "\n",
        "print(min_by_height)"
      ]
    },
    {
      "cell_type": "markdown",
      "metadata": {
        "id": "1TXg7A_icYXE"
      },
      "source": [
        "## Bigger Lists"
      ]
    },
    {
      "cell_type": "code",
      "execution_count": null,
      "metadata": {
        "id": "M2MhJi4pcoKv"
      },
      "outputs": [],
      "source": [
        "HEIGHT_FILE = \"https://raw.githubusercontent.com/DM-GY-9103-2024S-R/9103-utils/main/datasets/json/ansur_height.json\"\n",
        "\n",
        "# Use the object_from_json_url() function to get the contents\n",
        "# from the json file into a Python object called \"heights\"\n",
        "\n",
        "heights = object_from_json_url(HEIGHT_FILE)\n",
        "\n",
        "# TODO: look at the data\n",
        "\n",
        "# Answer the following:\n",
        "#   - how many items ?\n",
        "#   - what's the biggest height ?\n",
        "#   - what's the smallest height ?\n",
        "#   - what's the average height ?"
      ]
    },
    {
      "cell_type": "code",
      "execution_count": null,
      "metadata": {
        "id": "dyvLoSIGnecd"
      },
      "outputs": [],
      "source": [
        "WEIGHT_FILE = \"https://raw.githubusercontent.com/DM-GY-9103-2024S-R/9103-utils/main/datasets/json/ansur_weight.json\"\n",
        "weights = object_from_json_url(WEIGHT_FILE)\n",
        "\n",
        "# TODO: look at the data\n",
        "\n",
        "# Answer the following:\n",
        "#   - how many items ?\n",
        "#   - what's the biggest ?\n",
        "#   - what's the smallest ?\n",
        "#   - what's the average ?"
      ]
    },
    {
      "cell_type": "code",
      "execution_count": null,
      "metadata": {},
      "outputs": [],
      "source": [
        "AHW_FILE = \"https://raw.githubusercontent.com/DM-GY-9103-2024S-R/9103-utils/main/datasets/json/ansur_age_height_weight.json\"\n",
        "ahws = object_from_json_url(AHW_FILE)\n",
        "\n",
        "# TODO: look at the data\n",
        "\n",
        "# Answer the following:\n",
        "#   - how many items ?\n",
        "#   - how is this data different than the others ?\n",
        "#   - what's the biggest age ?\n",
        "#   - what's the smallest age ?\n",
        "#   - what's the average age ?\n",
        "#   - how do we access the height of a person ?\n",
        "#   - how do we get all of the heights ?"
      ]
    },
    {
      "cell_type": "code",
      "execution_count": null,
      "metadata": {
        "id": "eP07D04AW4ab"
      },
      "outputs": [],
      "source": [
        "AHW_OBJ_FILE = \"https://raw.githubusercontent.com/DM-GY-9103-2024S-R/9103-utils/main/datasets/json/ansur_age_height_weight_object.json\"\n",
        "ahws_obj = object_from_json_url(AHW_OBJ_FILE)\n",
        "\n",
        "# TODO: look at the data\n",
        "\n",
        "# Answer the following:\n",
        "#   - how is this data different than the others ?\n",
        "#   - how many items ?\n",
        "#   - how do we access the height of a person ?"
      ]
    },
    {
      "cell_type": "code",
      "execution_count": null,
      "metadata": {
        "id": "ts0Y8VopXcK0"
      },
      "outputs": [],
      "source": [
        "# more complete json version\n",
        "\n",
        "ANSUR_OBJ_FILE = \"https://raw.githubusercontent.com/DM-GY-9103-2024S-R/9103-utils/main/datasets/json/ansur.json\"\n",
        "ansur = object_from_json_url(ANSUR_OBJ_FILE)\n",
        "\n",
        "# TODO: look at the data\n",
        "\n",
        "# Answer:\n",
        "#   - how many rows/items/records/datapoints ?\n",
        "#   - how many columns/features/ ?\n",
        "#   - what could be an interesting feature ?"
      ]
    },
    {
      "cell_type": "markdown",
      "metadata": {
        "id": "57fBpk_6dsvw"
      },
      "source": [
        "## Plots\n",
        "\n",
        "We can use the [matplot](https://matplotlib.org/stable/api/pyplot_summary.html) library to visualize our data."
      ]
    },
    {
      "cell_type": "code",
      "execution_count": null,
      "metadata": {
        "id": "L2P8OQxHd2E0"
      },
      "outputs": [],
      "source": [
        "plt.plot(heights, 'bo', markersize=2)\n",
        "plt.show()"
      ]
    },
    {
      "cell_type": "code",
      "execution_count": null,
      "metadata": {
        "id": "HerDD9h0kCWN"
      },
      "outputs": [],
      "source": [
        "# TODO: plot weights\n",
        "\n",
        "w = []\n",
        "plt.plot(w, 'bo', markersize=2)\n",
        "plt.show()"
      ]
    },
    {
      "cell_type": "code",
      "execution_count": null,
      "metadata": {
        "id": "QhuUqx0Cn61r"
      },
      "outputs": [],
      "source": [
        "# TODO: plot sorted heights\n",
        "\n",
        "sh = []\n",
        "plt.plot(sh, 'bo', markersize=2)\n",
        "plt.show()"
      ]
    },
    {
      "cell_type": "markdown",
      "metadata": {
        "id": "DWExTIuKgWkw"
      },
      "source": [
        "## Histograms"
      ]
    },
    {
      "cell_type": "code",
      "execution_count": null,
      "metadata": {
        "id": "2Lm0SVgXd9oh"
      },
      "outputs": [],
      "source": [
        "plt.hist(heights, bins=32)\n",
        "plt.show()"
      ]
    },
    {
      "cell_type": "markdown",
      "metadata": {
        "id": "G4lJZM-HxNc3"
      },
      "source": [
        "## Correlation"
      ]
    },
    {
      "cell_type": "code",
      "execution_count": null,
      "metadata": {
        "id": "qCp1wD28xTS3"
      },
      "outputs": [],
      "source": [
        "# TODO: get 2 \"columns\" from the data above and plot scatter plot\n",
        "x = []\n",
        "y = []\n",
        "\n",
        "plt.scatter(x, y, marker='o')\n",
        "plt.xlabel(\"X Label\")\n",
        "plt.ylabel(\"Y Label\")\n",
        "plt.title(\"Title\")\n",
        "plt.show()"
      ]
    }
  ],
  "metadata": {
    "colab": {
      "authorship_tag": "ABX9TyN3itRJuoQfk42OHwX9RKAn",
      "provenance": []
    },
    "kernelspec": {
      "display_name": "Python 3",
      "name": "python3"
    },
    "language_info": {
      "codemirror_mode": {
        "name": "ipython",
        "version": 3
      },
      "file_extension": ".py",
      "mimetype": "text/x-python",
      "name": "python",
      "nbconvert_exporter": "python",
      "pygments_lexer": "ipython3",
      "version": "3.10.13"
    }
  },
  "nbformat": 4,
  "nbformat_minor": 0
}
